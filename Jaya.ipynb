{
 "cells": [
  {
   "cell_type": "markdown",
   "id": "6f795ff4-589f-4fde-954b-2042e99aadb4",
   "metadata": {},
   "source": [
    "#### ***Importing the required libraries***"
   ]
  },
  {
   "cell_type": "code",
   "execution_count": 1,
   "id": "8e8d4adc-1546-4f2a-96b8-ae8113943260",
   "metadata": {},
   "outputs": [],
   "source": [
    "import math\n",
    "import numpy as np\n",
    "import random\n",
    "import pandas as pd"
   ]
  },
  {
   "cell_type": "markdown",
   "id": "59d9d864-3f5c-4e97-b564-b229e7b3c1ac",
   "metadata": {},
   "source": [
    "#### ***Define the objective function***"
   ]
  },
  {
   "cell_type": "code",
   "execution_count": 2,
   "id": "5ec4777d-ff39-4e06-93c3-e6f7e6117179",
   "metadata": {},
   "outputs": [],
   "source": [
    "def myobj(p1):\n",
    "    F=[]\n",
    "    for i in range (len(p1)):\n",
    "        x=p1.loc[i]\n",
    "        f=(((x[0]**2)+x[1]-11)**2)+((x[0]+x[1]**2)-7)**2\n",
    "        F.append(f)\n",
    "    return F"
   ]
  },
  {
   "cell_type": "markdown",
   "id": "cb9249c3-2758-4371-8372-58412eb0bdfe",
   "metadata": {},
   "source": [
    "#### ***Search space and termination criteria***"
   ]
  },
  {
   "cell_type": "code",
   "execution_count": 3,
   "id": "6dd6745e-7cc4-4c67-b5cc-2f44efe5b9e8",
   "metadata": {},
   "outputs": [],
   "source": [
    "pop_size = 25\n",
    "Gen = 1000\n",
    "lb=[-5,-5]\n",
    "ub=[5,5]"
   ]
  },
  {
   "cell_type": "markdown",
   "id": "53eacd05-ef8b-4423-9356-72d282fefda5",
   "metadata": {},
   "source": [
    "#### ***Initial population***"
   ]
  },
  {
   "cell_type": "code",
   "execution_count": 4,
   "id": "8ca272b7-65db-4e47-91f0-b0b4b0a0e39e",
   "metadata": {},
   "outputs": [],
   "source": [
    "def initialpopulation(mini,maxi,pop_size):\n",
    "    pop=[]        \n",
    "    for i in range(pop_size):\n",
    "        p=[]        \n",
    "        for a,b in zip(mini,maxi):\n",
    "            p.append(a + (b-a) * random.random())\n",
    "        pop.append(p)    \n",
    "    ini_pop=pd.DataFrame(pop)        \n",
    "    return ini_pop"
   ]
  },
  {
   "cell_type": "markdown",
   "id": "e4164312-95e8-46e8-85fe-c8eba3d86dd1",
   "metadata": {},
   "source": [
    "#### ***Update population***"
   ]
  },
  {
   "cell_type": "code",
   "execution_count": 5,
   "id": "58352d7c-3ddb-4b79-a078-e135790e52f8",
   "metadata": {},
   "outputs": [],
   "source": [
    "def updatepopulation(p1,dim):      \n",
    "    best_x=np.array(p1.loc[p1['f'].idxmin()][0:dim])    \n",
    "    worst_x=np.array(p1.loc[p1['f'].idxmax()][0:dim])\n",
    "    new_x=[]\n",
    "    for i in range(len(p1)):\n",
    "        old_x=np.array(p1.loc[i][0:dim])           \n",
    "        r1=np.random.random(dim)\n",
    "        r2=np.random.random(dim)\n",
    "        new_x.append(old_x+r1*(best_x-abs(old_x))-r2*(worst_x-abs(old_x)))    \n",
    "    new_p1=pd.DataFrame(new_x)    \n",
    "    return new_p1"
   ]
  },
  {
   "cell_type": "markdown",
   "id": "c09be2dc-8f36-43fc-a8f0-3491a3b669a6",
   "metadata": {},
   "source": [
    "#### ***Greedy selection***"
   ]
  },
  {
   "cell_type": "code",
   "execution_count": 6,
   "id": "160fd6e0-160d-4776-a7b7-ba54e7a43705",
   "metadata": {},
   "outputs": [],
   "source": [
    "def greedyselector(p1,new_p1):    \n",
    "    for i in range(len(p1)):        \n",
    "        if p1.loc[i]['f']>new_p1.loc[i]['f']:                 \n",
    "            p1.loc[i]=new_p1.loc[i]    \n",
    "    return p1"
   ]
  },
  {
   "cell_type": "markdown",
   "id": "f241c557-3274-46d3-962c-f16a73e144d5",
   "metadata": {},
   "source": [
    "#### ***Trimming***"
   ]
  },
  {
   "cell_type": "code",
   "execution_count": 7,
   "id": "31a60ae6-97ad-480c-99be-8e04723ae602",
   "metadata": {},
   "outputs": [],
   "source": [
    "def trimr(new_p1,lb,ub):    \n",
    "    col=new_p1.columns.values    \n",
    "    for i in range(len(new_p1)):        \n",
    "        for j in range(len(col)):            \n",
    "            if new_p1.loc[i][j]>ub[j]:                \n",
    "                  new_p1.loc[i][j]=ub[j]            \n",
    "            elif new_p1.loc[i][j]<lb[j]:                          \n",
    "                  new_p1.loc[i][j]=lb[j]    \n",
    "    return new_p1"
   ]
  },
  {
   "cell_type": "markdown",
   "id": "25f417cb-76a7-48b2-ba2c-8f093367d058",
   "metadata": {},
   "source": [
    "#### ***Looping***"
   ]
  },
  {
   "cell_type": "code",
   "execution_count": 8,
   "id": "ed3b0a8d-648f-40e8-8a20-5373f7caa22d",
   "metadata": {},
   "outputs": [],
   "source": [
    "def jaya(*argv):\n",
    "    pop_size, Gen, mini, maxi= argv\n",
    "    lb=np.array(mini)\n",
    "    ub=np.array(maxi)\n",
    "    p1=initialpopulation(lb,ub,pop_size)\n",
    "    p1['f']=myobj(p1)\n",
    "    \n",
    "    dim=len(lb)\n",
    "    gen=0\n",
    "    best=[]\n",
    "    while (gen<Gen):\n",
    "        new_p1=updatepopulation(p1,dim)\n",
    "        new_p1=trimr(new_p1,lb,ub)\n",
    "        new_p1['f']=myobj(new_p1)\n",
    "        p1=greedyselector(p1,new_p1)\n",
    "        gen=gen+1\n",
    "    #     print(gen)\n",
    "        best=p1['f'].min()\n",
    "        xbest=p1.loc[p1['f'].idxmin()][0:dim].tolist()\n",
    "#     print('Best={}'.format(best))\n",
    "#     print('xbest={}'.format(xbest))\n",
    "    return best, xbest"
   ]
  },
  {
   "cell_type": "markdown",
   "id": "1e862240-e669-46ae-b97f-16de00c8a6cf",
   "metadata": {},
   "source": [
    "#### ***Executing the code***"
   ]
  },
  {
   "cell_type": "code",
   "execution_count": 9,
   "id": "aff9dd85-50b1-4362-8a25-71b8c6333c1e",
   "metadata": {},
   "outputs": [
    {
     "name": "stdout",
     "output_type": "stream",
     "text": [
      "The objective function value = 0.0016749095961702987\n",
      "The optimum values of variables = [-2.801341840849501, 3.12575583970646]\n"
     ]
    }
   ],
   "source": [
    "best,xbest = jaya(pop_size, Gen, lb, ub)\n",
    "print('The objective function value = {}'.format(best))\n",
    "print('The optimum values of variables = {}'.format(xbest))"
   ]
  }
 ],
 "metadata": {
  "kernelspec": {
   "display_name": "Python 3 (ipykernel)",
   "language": "python",
   "name": "python3"
  },
  "language_info": {
   "codemirror_mode": {
    "name": "ipython",
    "version": 3
   },
   "file_extension": ".py",
   "mimetype": "text/x-python",
   "name": "python",
   "nbconvert_exporter": "python",
   "pygments_lexer": "ipython3",
   "version": "3.9.12"
  }
 },
 "nbformat": 4,
 "nbformat_minor": 5
}
